{
 "cells": [
  {
   "cell_type": "code",
   "execution_count": 1,
   "id": "cbaef413-e0d9-46a8-88aa-cfb695d37036",
   "metadata": {},
   "outputs": [
    {
     "name": "stdout",
     "output_type": "stream",
     "text": [
      "The number is positive\n"
     ]
    }
   ],
   "source": [
    "# Write a function that checks if a number is positive and prints appropriate message.\n",
    "def number_positive(num):\n",
    "    if num > 0:\n",
    "        print(\"The number is positive\")\n",
    "    else:\n",
    "        print(\"The number is negative.\")\n",
    "\n",
    "number_positive(5)"
   ]
  },
  {
   "cell_type": "code",
   "execution_count": 2,
   "id": "c834111b-12b1-4a68-b6e0-1823617e8fd2",
   "metadata": {},
   "outputs": [
    {
     "name": "stdout",
     "output_type": "stream",
     "text": [
      "Pass\n"
     ]
    }
   ],
   "source": [
    "# Write a function that determines if a student passed or failed based on their score.\n",
    "def pass_or_fail(score):\n",
    "    if score >= 60:\n",
    "        print(\"Pass\")\n",
    "    else:\n",
    "        print(\"Fail\")\n",
    "pass_or_fail(70)"
   ]
  },
  {
   "cell_type": "code",
   "execution_count": 5,
   "id": "e9e5d9ff-d540-4a7e-9277-df9020c03306",
   "metadata": {},
   "outputs": [
    {
     "name": "stdout",
     "output_type": "stream",
     "text": [
      "Grade: C\n"
     ]
    }
   ],
   "source": [
    "# Write a function that converts a numeric grade to a letter grade:\n",
    "\n",
    "def grade_check(score):\n",
    "    if score >= 90:\n",
    "        print(\"Grade: A\")\n",
    "    elif score >= 80:\n",
    "        print(\"Grade: B\")\n",
    "    elif score >= 70:\n",
    "        print(\"Grade: C\")\n",
    "    elif score >= 60:\n",
    "        print(\"Grade: D\")\n",
    "    else:\n",
    "        print(\"Grade: F\")\n",
    "\n",
    "grade_check(75)"
   ]
  },
  {
   "cell_type": "code",
   "execution_count": 9,
   "id": "fcd467aa-6829-4fb7-afda-2be4cf3d3027",
   "metadata": {},
   "outputs": [
    {
     "name": "stdout",
     "output_type": "stream",
     "text": [
      "Welcome! Basic access granted.\n"
     ]
    }
   ],
   "source": [
    "# Write a function to determine user access based on:\n",
    "# Login status (True or False)\n",
    "# Admin status (True or False)\n",
    "# Premium membership (True or False)\n",
    "def check_status(login_status, admin_status, premium_member):\n",
    "    # Check if user is logged in\n",
    "    if login_status:\n",
    "        # Check if admin\n",
    "        if admin_status:\n",
    "            print(\"Welcome admin! Full access granted.\")\n",
    "        #Check if premium\n",
    "        elif premium_member:\n",
    "            print(\"Welcome premium user! Premium access granted.\")\n",
    "        else:\n",
    "            print(\"Welcome! Basic access granted.\")\n",
    "    else:\n",
    "        print(\"Please log in to access the site.\")\n",
    "    \n",
    "check_status(True, False, False)            "
   ]
  },
  {
   "cell_type": "code",
   "execution_count": 13,
   "id": "993caeb6-da83-4620-a7ed-22086fef124a",
   "metadata": {},
   "outputs": [
    {
     "data": {
      "text/plain": [
       "'Even'"
      ]
     },
     "execution_count": 13,
     "metadata": {},
     "output_type": "execute_result"
    }
   ],
   "source": [
    "# Write a function that returns \"Even\" or \"Odd\" based on whether a number is divisible by 2, using the ternary operator.\n",
    "def even_odd(num):\n",
    "    if num % 2 == 0:\n",
    "        return(\"Even\")\n",
    "    else:\n",
    "        return(\"Odd\")\n",
    "\n",
    "even_odd(1566)\n",
    "    \n",
    "    "
   ]
  },
  {
   "cell_type": "code",
   "execution_count": 26,
   "id": "eba81ad1-3517-4874-9d04-3703019ed3e6",
   "metadata": {},
   "outputs": [
    {
     "data": {
      "text/plain": [
       "True"
      ]
     },
     "execution_count": 26,
     "metadata": {},
     "output_type": "execute_result"
    }
   ],
   "source": [
    "# Write a function to check if a year is a leap year.\n",
    "# A leap year is divisible by 4, except when divisible by 100 unless also divisible by 400.\n",
    "def is_leap_year(year):\n",
    "    if (year % 4 == 0 and year % 100 != 0) or year % 400 == 0:\n",
    "\n",
    "is_leap_year(2024)"
   ]
  },
  {
   "cell_type": "code",
   "execution_count": 32,
   "id": "48273d4c-3eaa-4ee5-b4c8-7b04f2d5da15",
   "metadata": {},
   "outputs": [
    {
     "data": {
      "text/plain": [
       "'Affordable electronics in stock'"
      ]
     },
     "execution_count": 32,
     "metadata": {},
     "output_type": "execute_result"
    }
   ],
   "source": [
    "# Refactoring code provided in exercise\n",
    "def classify_item(item_type, price, in_stock):\n",
    "    \n",
    "    if item_type == \"electronics\":\n",
    "        category = \"electronics\"\n",
    "    else:\n",
    "        category = \"non-electronics\"\n",
    "\n",
    "    if price < 100:\n",
    "        price_category = \"Affordable\"\n",
    "    else:\n",
    "        price_category = \"Premium\"\n",
    "\n",
    "    if in_stock:\n",
    "        stock_status = \"in stock\"\n",
    "    else:\n",
    "        stock_status = \"out of stock\"\n",
    "\n",
    "    return f\"{price_category} {category} {stock_status}\"\n",
    "\n",
    "classify_item(\"electronics\", 90, True)"
   ]
  },
  {
   "cell_type": "code",
   "execution_count": null,
   "id": "26df4633-6085-4af9-b604-ec2d3ed5f0da",
   "metadata": {},
   "outputs": [],
   "source": []
  }
 ],
 "metadata": {
  "kernelspec": {
   "display_name": "Python [conda env:base] *",
   "language": "python",
   "name": "conda-base-py"
  },
  "language_info": {
   "codemirror_mode": {
    "name": "ipython",
    "version": 3
   },
   "file_extension": ".py",
   "mimetype": "text/x-python",
   "name": "python",
   "nbconvert_exporter": "python",
   "pygments_lexer": "ipython3",
   "version": "3.13.5"
  }
 },
 "nbformat": 4,
 "nbformat_minor": 5
}
