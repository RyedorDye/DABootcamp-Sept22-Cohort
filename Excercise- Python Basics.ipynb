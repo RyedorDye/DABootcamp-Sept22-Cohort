{
 "cells": [
  {
   "cell_type": "code",
   "execution_count": 25,
   "id": "ac133cdf-1cf3-4b72-a059-93c5cd019a17",
   "metadata": {},
   "outputs": [
    {
     "name": "stdout",
     "output_type": "stream",
     "text": [
      "10 <class 'int'>\n",
      "0.333333 <class 'float'>\n",
      "Skylar <class 'str'>\n",
      "True <class 'bool'>\n",
      "GREETINGS, SKYLAR!\n",
      "Whatsup, Skylar!\n",
      "['Greetings', ' Skylar!']\n",
      "21 3 108 1.3333333333333333 3 5159780352\n",
      "False True True False False\n",
      "False True True\n",
      "48\n",
      "35\n",
      "wagon\n",
      "Final Result 5.25\n"
     ]
    }
   ],
   "source": [
    "# Task 1: Variable Declaration and Data Types\n",
    "int_var = 10\n",
    "float_var = 0.333333\n",
    "str_var = \"Skylar\"\n",
    "bool_var = True\n",
    "\n",
    "print(int_var, type(int_var))\n",
    "print(float_var, type(float_var))\n",
    "print(str_var, type(str_var))\n",
    "print(bool_var, type(bool_var))\n",
    "\n",
    "# Task 2: String Manipulation\n",
    "sample_string = \"Greetings, Skylar!\"\n",
    "print(sample_string.upper()) # Convert to uppercase\n",
    "print(sample_string.replace(\"Greetings\", \"Whatsup\")) # Replace part of string\n",
    "print(sample_string.split(\",\")) # Split into a list\n",
    "\n",
    "#Task 3: Basic Operations\n",
    "a, b = 12, 9\n",
    "print(a + b, a - b, a * b, a / b, a % b, a ** b) # Arithmatic\n",
    "print(a < b, a > b, a != b, a <= b, a == b) # Coparison\n",
    "print(a > 11 and b < 8, a < 11 or b > 8, not (a == b)) # Logical\n",
    "\n",
    "# Task 4: Data Collections\n",
    "my_list = [3, 6, 12, 24, 48]\n",
    "my_dict = {\"name\": \"Skylar\", \"age\": 35}\n",
    "my_tuple = (\"car\", \"truck\", \"wagon\")\n",
    "\n",
    "print(my_list[4]) # Access element from list\n",
    "print(my_dict[\"age\"]) # Access element from dictionary\n",
    "print(my_tuple[2]) # Access element from tuple\n",
    "\n",
    "# Task 5: Expression Combination\n",
    "result = len(str_var) / (my_list[3]) * (a + b)\n",
    "print(\"Final Result\", result)\n"
   ]
  },
  {
   "cell_type": "code",
   "execution_count": 28,
   "id": "1e769a66-bd5b-44ad-9ef7-28912b405eaf",
   "metadata": {},
   "outputs": [
    {
     "name": "stdout",
     "output_type": "stream",
     "text": [
      "90 <class 'int'>\n",
      "1.25 <class 'float'>\n",
      "Polly <class 'str'>\n",
      "True <class 'bool'>\n",
      "pOLLY WANT A CRACKER?\n",
      "1\n",
      "False\n",
      "91 -83 225 0.7592592592592593 9 4276423536147513033824858347442371006104315008168077916739099987456637825579408573872797205694951117038726806640625\n",
      "False True False True False True\n",
      "True True True\n",
      "Oriole\n",
      "Oriole Birds\n",
      "Passeriformes\n",
      "Final Result Oriole want a cracker? 45.5\n"
     ]
    }
   ],
   "source": [
    "# Task 1: Declare Variables and Data Types\n",
    "int_var = 90\n",
    "float_var = 1.25\n",
    "str_var = \"Polly\"\n",
    "bool_var = True\n",
    "\n",
    "print(int_var, type(int_var))\n",
    "print(float_var, type(float_var))\n",
    "print(str_var, type(str_var))\n",
    "print(bool_var, type(bool_var))\n",
    "\n",
    "# Task 2: Sting Manipulation\n",
    "sample_string = \"Polly want a cracker?\"\n",
    "print(sample_string.swapcase())\n",
    "print(sample_string.count(\"cracker\"))\n",
    "print(sample_string.isalpha())\n",
    "\n",
    "# Task 3: Basic Operations\n",
    "a, b, c, d = 9, 25, 82, 108\n",
    "print(a + c, b - d, a * b, c / d, a % d, b ** c) # Arithmatic\n",
    "print(a > c, b < d, a == b, c != d, a >= d, b <= c) # Comparison\n",
    "print(a != c and b != d, a > b or c < d, not(a * d == b / c)) # Logical\n",
    "\n",
    "# Task 4: Data Collections\n",
    "my_list = [\"Parrot\", \"Eagle\", \"Hawk\", \"Oriole\"]\n",
    "my_dict = {\"sing\" : \"Oriole\", \"mimic\" : \"Parrot\", \"hunt\" : \"Hawk\", \"mascot\" : \"Birds\"}\n",
    "my_tuple = (\"Falconiformes\", \"Passeriformes\", \"Psittaciformes\")\n",
    "\n",
    "print(my_list[3]) # Access element from list\n",
    "print(my_dict[\"sing\"], my_dict[\"mascot\"]) # Access element from dictionary\n",
    "print(my_tuple[1]) # Access element from tuple\n",
    "\n",
    "# Task 5: Expression Combination\n",
    "result1 = sample_string.replace(\"Polly\", my_dict[\"sing\"])\n",
    "result2 = len (sample_string) * len (my_tuple[1]) / len (my_list[3])\n",
    "print(\"Final Result\", result1, result2)\n",
    "\n",
    "\n",
    "\n",
    "\n"
   ]
  },
  {
   "cell_type": "code",
   "execution_count": 29,
   "id": "0b2269cf-1e0b-4775-8b6c-c8ae6392bcbd",
   "metadata": {},
   "outputs": [
    {
     "name": "stdout",
     "output_type": "stream",
     "text": [
      "apple\n",
      "banana\n",
      "cherry\n"
     ]
    }
   ],
   "source": [
    "fruits = [\"apple\", \"banana\", \"cherry\"] #list\n",
    "for i in fruits:\n",
    "    print(i)"
   ]
  },
  {
   "cell_type": "code",
   "execution_count": null,
   "id": "ea9cc3b2-8c46-425a-ad32-8924a5a65770",
   "metadata": {},
   "outputs": [],
   "source": [
    "name = \"Skylar Sickles\"\n",
    "print(\"name:\", name)"
   ]
  }
 ],
 "metadata": {
  "kernelspec": {
   "display_name": "Python [conda env:base] *",
   "language": "python",
   "name": "conda-base-py"
  },
  "language_info": {
   "codemirror_mode": {
    "name": "ipython",
    "version": 3
   },
   "file_extension": ".py",
   "mimetype": "text/x-python",
   "name": "python",
   "nbconvert_exporter": "python",
   "pygments_lexer": "ipython3",
   "version": "3.13.5"
  }
 },
 "nbformat": 4,
 "nbformat_minor": 5
}
