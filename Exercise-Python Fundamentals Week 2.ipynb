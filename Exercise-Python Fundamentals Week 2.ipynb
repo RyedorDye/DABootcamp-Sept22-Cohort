{
 "cells": [
  {
   "cell_type": "code",
   "execution_count": 2,
   "id": "8149950f-5333-4da2-a4b0-98442ed0102e",
   "metadata": {},
   "outputs": [
    {
     "name": "stdin",
     "output_type": "stream",
     "text": [
      "Enter your age:  35\n"
     ]
    },
    {
     "name": "stdout",
     "output_type": "stream",
     "text": [
      "You can vote!\n"
     ]
    }
   ],
   "source": [
    "age = int(input(\"Enter your age: \"))\n",
    "\n",
    "if age < 18:\n",
    "    print(\"Too young to vote.\")\n",
    "elif age == 18:\n",
    "    print(\"Just became eligible to vote!\")\n",
    "else:\n",
    "    print(\"You can vote!\")"
   ]
  },
  {
   "cell_type": "code",
   "execution_count": 9,
   "id": "4347f8bd-d9c0-44e7-bb0e-71ccfc524946",
   "metadata": {},
   "outputs": [
    {
     "name": "stdin",
     "output_type": "stream",
     "text": [
      "Enter a number:  15\n"
     ]
    },
    {
     "name": "stdout",
     "output_type": "stream",
     "text": [
      "Odd.\n"
     ]
    }
   ],
   "source": [
    "num = int(input(\"Enter a number: \"))\n",
    "if num % 2 == 0:\n",
    "    print(\"Even.\")\n",
    "else:\n",
    "    print(\"Odd.\")"
   ]
  },
  {
   "cell_type": "code",
   "execution_count": 10,
   "id": "0bb23b6e-9cd2-4872-b4b6-da170fe5d8bf",
   "metadata": {},
   "outputs": [
    {
     "name": "stdin",
     "output_type": "stream",
     "text": [
      "Enter the temperature (°F):  95\n"
     ]
    },
    {
     "name": "stdout",
     "output_type": "stream",
     "text": [
      "Hot.\n"
     ]
    }
   ],
   "source": [
    "temp = int(input(\"Enter the temperature (°F): \"))\n",
    "if temp < 50:\n",
    "    print(\"Cold.\")\n",
    "elif temp < 80 and temp > 50:\n",
    "    print(\"Warm.\")\n",
    "else:\n",
    "    print(\"Hot.\")\n"
   ]
  },
  {
   "cell_type": "code",
   "execution_count": 11,
   "id": "b8fbbc2f-1f17-4899-bdbb-1c2f099956fa",
   "metadata": {},
   "outputs": [
    {
     "name": "stdin",
     "output_type": "stream",
     "text": [
      "Enter the score:  55\n"
     ]
    },
    {
     "name": "stdout",
     "output_type": "stream",
     "text": [
      "F\n"
     ]
    }
   ],
   "source": [
    "grade = int(input(\"Enter the score: \"))\n",
    "if num >= 90:\n",
    "    print(\"A\")\n",
    "elif num >= 80:\n",
    "    print(\"B\")\n",
    "elif num >= 70:\n",
    "    print(\"C\")\n",
    "else:\n",
    "    print(\"F\")\n"
   ]
  },
  {
   "cell_type": "code",
   "execution_count": 10,
   "id": "643622b5-2f1a-4a22-92da-658641781f1f",
   "metadata": {},
   "outputs": [
    {
     "name": "stdout",
     "output_type": "stream",
     "text": [
      "User Access.\n"
     ]
    }
   ],
   "source": [
    "is_logged_in = True\n",
    "is_admin = False\n",
    "\n",
    "if is_logged_in:\n",
    "    if is_admin:\n",
    "        print(\"Admin Access.\")\n",
    "    else:\n",
    "        print(\"User Access.\")\n",
    "else:\n",
    "    print(\"Log In required.\")"
   ]
  },
  {
   "cell_type": "code",
   "execution_count": 11,
   "id": "ca05dc31-8496-4a49-a1cd-103272d9599a",
   "metadata": {},
   "outputs": [
    {
     "name": "stdout",
     "output_type": "stream",
     "text": [
      "24.0\n"
     ]
    }
   ],
   "source": [
    "is_member = True\n",
    "purchase_total = 120\n",
    "\n",
    "if is_member:\n",
    "    if purchase_total >= 100:\n",
    "        print(purchase_total * (20 / 100))\n",
    "    else:\n",
    "        print(purchase_total * (10 / 100))\n",
    "else:\n",
    "    print:(\"No Discount.\")\n",
    "    "
   ]
  },
  {
   "cell_type": "code",
   "execution_count": 14,
   "id": "3b955c70-b750-4c05-ab65-6befe18fa779",
   "metadata": {},
   "outputs": [
    {
     "name": "stdin",
     "output_type": "stream",
     "text": [
      "Enter speed:  95\n"
     ]
    },
    {
     "name": "stdout",
     "output_type": "stream",
     "text": [
      "Big Ticket.\n"
     ]
    }
   ],
   "source": [
    "speed = int(input(\"Enter speed: \"))\n",
    "if speed <= 60:\n",
    "    print(\"No Ticket.\")\n",
    "elif speed <= 80:\n",
    "    print(\"Small Ticket.\")\n",
    "else:\n",
    "    print(\"Big Ticket.\")"
   ]
  },
  {
   "cell_type": "code",
   "execution_count": 15,
   "id": "277e3ec6-fa2a-4586-829f-06a9159600a8",
   "metadata": {},
   "outputs": [
    {
     "name": "stdin",
     "output_type": "stream",
     "text": [
      "Enter a number:  51\n"
     ]
    },
    {
     "name": "stdout",
     "output_type": "stream",
     "text": [
      "Out of Range.\n"
     ]
    }
   ],
   "source": [
    "num = int(input(\"Enter a number: \"))\n",
    "if 10 <= num <= 50:\n",
    "    print(\"In Range.\")\n",
    "else:\n",
    "    print(\"Out of Range.\")\n"
   ]
  },
  {
   "cell_type": "code",
   "execution_count": 21,
   "id": "60861b87-7942-48c6-9318-f6229f481568",
   "metadata": {},
   "outputs": [
    {
     "name": "stdin",
     "output_type": "stream",
     "text": [
      "Enter a day of the week:  friday\n"
     ]
    },
    {
     "name": "stdout",
     "output_type": "stream",
     "text": [
      "Weekday\n"
     ]
    }
   ],
   "source": [
    "day = input(\"Enter a day of the week: \")\n",
    "if day == \"Saturday\" or day == \"Sunday\":\n",
    "    print(\"Weekend.\")\n",
    "else:\n",
    "    print(\"Weekday\")\n"
   ]
  },
  {
   "cell_type": "code",
   "execution_count": 26,
   "id": "645f46a4-a404-4232-bde7-ad3f59b24f0a",
   "metadata": {},
   "outputs": [
    {
     "name": "stdin",
     "output_type": "stream",
     "text": [
      "Enter a number:  67\n"
     ]
    },
    {
     "name": "stdout",
     "output_type": "stream",
     "text": [
      "67\n"
     ]
    }
   ],
   "source": [
    "num = int(input(\"Enter a number: \"))\n",
    "if num % 3 == 0 and num % 5 == 0:\n",
    "    print(\"FIZZBUZZ.\")\n",
    "elif num % 3 == 0:\n",
    "    print(\"FIZZ.\")\n",
    "elif num % 5 == 0:\n",
    "    print(\"BUZZ.\")\n",
    "else:\n",
    "    print(num)\n",
    "\n",
    "        "
   ]
  },
  {
   "cell_type": "code",
   "execution_count": 26,
   "id": "603e1fd3-fb29-4fba-b555-8fc51996730d",
   "metadata": {},
   "outputs": [
    {
     "name": "stdout",
     "output_type": "stream",
     "text": [
      "Hello, Skylar!\n"
     ]
    }
   ],
   "source": [
    "def greet_user_name(name):\n",
    "    print(f\"Hello, {name}!\")\n",
    "greet_user_name(\"Skylar\")\n"
   ]
  },
  {
   "cell_type": "code",
   "execution_count": 28,
   "id": "7037cfae-2bea-4857-b90b-ed5592a27a8b",
   "metadata": {},
   "outputs": [
    {
     "data": {
      "text/plain": [
       "64"
      ]
     },
     "execution_count": 28,
     "metadata": {},
     "output_type": "execute_result"
    }
   ],
   "source": [
    "def square_number(num):\n",
    "    return num ** 2\n",
    "square_number(8)"
   ]
  },
  {
   "cell_type": "code",
   "execution_count": 30,
   "id": "b7e78651-7705-4d35-b998-fe6f35081dae",
   "metadata": {},
   "outputs": [
    {
     "data": {
      "text/plain": [
       "21"
      ]
     },
     "execution_count": 30,
     "metadata": {},
     "output_type": "execute_result"
    }
   ],
   "source": [
    "def calculate(a, b, operator):\n",
    "    if operator == \"add\":\n",
    "        return a + b\n",
    "    elif operator == \"subtract\":\n",
    "        return a - b\n",
    "    elif operator == \"multiply\":\n",
    "        return a * b\n",
    "    elif operator == \"divide\":\n",
    "        return a / b\n",
    "    else:\n",
    "        print(\"Invalid Entry.\")\n",
    "calculate(7, 3, \"multiply\")\n",
    "    \n",
    "    "
   ]
  },
  {
   "cell_type": "code",
   "execution_count": 39,
   "id": "8dd224c6-89ff-4d9e-94a0-5ced59e6e566",
   "metadata": {},
   "outputs": [
    {
     "name": "stdout",
     "output_type": "stream",
     "text": [
      "Normal.\n"
     ]
    }
   ],
   "source": [
    "def calculate_bmi(weight, height):\n",
    "    bmi = weight / (height ** 2)\n",
    "    if bmi <= 18.5:\n",
    "        print(\"Underweight.\")\n",
    "    elif bmi < 25:\n",
    "        print(\"Normal.\")\n",
    "    else:\n",
    "        print(\"Overweight.\")\n",
    "calculate_bmi(65, 1.7)"
   ]
  },
  {
   "cell_type": "code",
   "execution_count": 41,
   "id": "20efe296-aebf-4d31-b350-3368b386ca88",
   "metadata": {},
   "outputs": [
    {
     "name": "stdout",
     "output_type": "stream",
     "text": [
      "Pass.\n"
     ]
    }
   ],
   "source": [
    "def check_score(num):\n",
    "    if num >= 70:\n",
    "        print(\"Pass.\")\n",
    "    else:\n",
    "        print(\"Fail.\")\n",
    "check_score(95)\n",
    "    "
   ]
  },
  {
   "cell_type": "code",
   "execution_count": 44,
   "id": "1a37bb9d-8fa9-45bd-aa3f-bd4cc67057a8",
   "metadata": {},
   "outputs": [
    {
     "name": "stdout",
     "output_type": "stream",
     "text": [
      "The minimum number in list is: 5\n",
      "The maximum number in list is: 35\n"
     ]
    }
   ],
   "source": [
    "# check min and max of a list\n",
    "numbers = [5, 10, 15, 25, 30, 35]\n",
    "\n",
    "# min function searches list for minimum value\n",
    "min_number = min(numbers)\n",
    "print(f\"The minimum number in list is: {min_number}\")\n",
    "\n",
    "# max function searches list for maximum value\n",
    "max_number = max(numbers)\n",
    "print(f\"The maximum number in list is: {max_number}\")"
   ]
  },
  {
   "cell_type": "code",
   "execution_count": 45,
   "id": "512a0082-5372-4e86-a913-9e97bddb2381",
   "metadata": {},
   "outputs": [
    {
     "name": "stdout",
     "output_type": "stream",
     "text": [
      "[10, 30]\n"
     ]
    }
   ],
   "source": [
    "# check for even numbers in list\n",
    "get_even = []\n",
    "for num in numbers:\n",
    "    if num % 2 == 0:\n",
    "        # append function adds get_even to exsisting numbers list to pull even numbers\n",
    "        get_even.append(num)\n",
    "print(get_even)"
   ]
  },
  {
   "cell_type": "code",
   "execution_count": 46,
   "id": "71714468-9441-4e1e-a6dd-628dacbbc950",
   "metadata": {},
   "outputs": [
    {
     "data": {
      "text/plain": [
       "'?rof siht esu I dluow tahW'"
      ]
     },
     "execution_count": 46,
     "metadata": {},
     "output_type": "execute_result"
    }
   ],
   "source": [
    "def reverse_string(text):\n",
    "    return text[::-1]\n",
    "reverse_string(\"What would I use this for?\") "
   ]
  },
  {
   "cell_type": "code",
   "execution_count": 47,
   "id": "3829ac74-20f0-411c-9d20-53ea5225755a",
   "metadata": {},
   "outputs": [
    {
     "name": "stdout",
     "output_type": "stream",
     "text": [
      "9\n"
     ]
    }
   ],
   "source": [
    "sentence = \"Let's count how many words are in this sentence.\"\n",
    "#The split() method divides the sentence into a list of words based on whitespace\n",
    "#The len() function is used to calculate the total number of words in the list.\n",
    "word_count = len(sentence.split())\n",
    "print(word_count)"
   ]
  },
  {
   "cell_type": "code",
   "execution_count": 59,
   "id": "ca428357-cd37-477f-a0b2-4c39d2e0de78",
   "metadata": {},
   "outputs": [
    {
     "data": {
      "text/plain": [
       "'False'"
      ]
     },
     "execution_count": 59,
     "metadata": {},
     "output_type": "execute_result"
    }
   ],
   "source": [
    "def is_prime(num):\n",
    "    if num <= 1:\n",
    "        return \"False\"\n",
    "    for i in range(2, int(num ** 0.5) + 1):\n",
    "        if num % i == 0:\n",
    "            return \"False\"\n",
    "    else:\n",
    "        return \"True\"\n",
    "    \n",
    "is_prime(25)"
   ]
  },
  {
   "cell_type": "code",
   "execution_count": 1,
   "id": "6114f89e-2dc3-46c9-9532-064d14714c36",
   "metadata": {},
   "outputs": [
    {
     "name": "stdout",
     "output_type": "stream",
     "text": [
      "Even Numbers: [22, 98, 36]\n"
     ]
    }
   ],
   "source": [
    "def filter_even_numbers(numbers):\n",
    "    even_nums = []\n",
    "    for num in numbers:\n",
    "        if num % 2 == 0:\n",
    "            even_nums.append(num)\n",
    "    return even_nums\n",
    "numbers = [22, 98, 55, 36, 89]\n",
    "even_numbers = filter_even_numbers(numbers)\n",
    "print(\"Even Numbers:\", even_numbers)"
   ]
  },
  {
   "cell_type": "code",
   "execution_count": null,
   "id": "76f19888-bb94-46df-8daa-632d69913a4d",
   "metadata": {},
   "outputs": [],
   "source": []
  }
 ],
 "metadata": {
  "kernelspec": {
   "display_name": "Python [conda env:base] *",
   "language": "python",
   "name": "conda-base-py"
  },
  "language_info": {
   "codemirror_mode": {
    "name": "ipython",
    "version": 3
   },
   "file_extension": ".py",
   "mimetype": "text/x-python",
   "name": "python",
   "nbconvert_exporter": "python",
   "pygments_lexer": "ipython3",
   "version": "3.13.5"
  }
 },
 "nbformat": 4,
 "nbformat_minor": 5
}
