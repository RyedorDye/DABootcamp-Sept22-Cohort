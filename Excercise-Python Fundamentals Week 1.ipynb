{
 "cells": [
  {
   "cell_type": "code",
   "execution_count": 7,
   "id": "71b02e9b-7bb1-4827-a15e-feeef49e39bb",
   "metadata": {},
   "outputs": [
    {
     "name": "stdout",
     "output_type": "stream",
     "text": [
      "name: Skylar Sickles\n",
      "age: 35\n",
      "name: Skylar Sickles age: 35\n"
     ]
    }
   ],
   "source": [
    "name = \"Skylar Sickles\"\n",
    "print(\"name:\", name)\n",
    "age = (35)\n",
    "print(\"age:\", age)\n",
    "print(\"name:\", name, \"age:\", age)\n"
   ]
  },
  {
   "cell_type": "code",
   "execution_count": 10,
   "id": "a60e387f-9803-485a-8867-ade1d2f15567",
   "metadata": {},
   "outputs": [
    {
     "name": "stdout",
     "output_type": "stream",
     "text": [
      "llo\n",
      "python is fun!\n",
      "PYTHON IS FUN!\n",
      "20\n"
     ]
    }
   ],
   "source": [
    "a = \"Hello World\"\n",
    "print(a [2:5])\n",
    "b = \"Python is FUN!\"\n",
    "print(b.lower())\n",
    "print(b.upper())\n",
    "c = \"I would like a beer.\"\n",
    "print(len (c))\n"
   ]
  },
  {
   "cell_type": "code",
   "execution_count": 17,
   "id": "373a52e9-9239-4ed2-996f-ee64dac582da",
   "metadata": {},
   "outputs": [
    {
     "name": "stdout",
     "output_type": "stream",
     "text": [
      "3\n",
      "Addition: 27\n",
      "Subtraction: -9\n",
      "Multiplication: 162\n",
      "Division: 2.0\n"
     ]
    }
   ],
   "source": [
    "a = 10\n",
    "b = 3\n",
    "print(round (a / b))\n",
    "c = 9\n",
    "d = 18\n",
    "print(\"Addition:\", c + d)\n",
    "print(\"Subtraction:\", c - d)\n",
    "print(\"Multiplication:\", d * c)\n",
    "print(\"Division:\", d / c)"
   ]
  },
  {
   "cell_type": "code",
   "execution_count": 24,
   "id": "202a417b-e2bf-47b4-96ee-31223e0f365d",
   "metadata": {},
   "outputs": [
    {
     "name": "stdout",
     "output_type": "stream",
     "text": [
      "False\n",
      "False\n",
      "False\n",
      "True\n"
     ]
    }
   ],
   "source": [
    "e = 5\n",
    "f = 19\n",
    "print(e > f) \n",
    "print(e == f)\n",
    "print(f < e)\n",
    "g = 17\n",
    "h = 27\n",
    "print(g < h and h > g)"
   ]
  },
  {
   "cell_type": "code",
   "execution_count": 7,
   "id": "e4bff8e5-f881-4ace-b585-39d1da2e0966",
   "metadata": {},
   "outputs": [
    {
     "name": "stdout",
     "output_type": "stream",
     "text": [
      "{i} is a negative number.\n",
      "HOT\n",
      "B\n"
     ]
    }
   ],
   "source": [
    "i = -5\n",
    "if i > 0:\n",
    "    print(\"{i} is a positive number.\")\n",
    "elif i < 0:\n",
    "    print(\"{i} is a negative number.\")\n",
    "else:\n",
    "    print(\"{i} is 0.\")\n",
    "temperature = 35\n",
    "if temperature > 30:\n",
    "    print(\"HOT\")\n",
    "else:\n",
    "    print(\"Not Hot\")\n",
    "score = 85\n",
    "if score >= 90:\n",
    "    print(\"A\")\n",
    "elif score >= 80:\n",
    "    print(\"B\")\n",
    "elif score >= 70:\n",
    "    print(\"C\")\n",
    "else:\n",
    "    print(\"Below C\")"
   ]
  },
  {
   "cell_type": "code",
   "execution_count": 13,
   "id": "e0537433-3521-49b3-a65a-90151a530f03",
   "metadata": {},
   "outputs": [
    {
     "name": "stdout",
     "output_type": "stream",
     "text": [
      "panther\n",
      "lemon\n"
     ]
    },
    {
     "data": {
      "text/plain": [
       "'Norfolk'"
      ]
     },
     "execution_count": 13,
     "metadata": {},
     "output_type": "execute_result"
    }
   ],
   "source": [
    "animals = [\"tiger\", \"panther\", \"lion\"] #list\n",
    "print(animals[1])\n",
    "fruits = (\"lemon\", \"lime\", \"orange\") #tuple\n",
    "print(fruits[0])\n",
    "my_dict= {\"name\": \"Alexis\", \"age\": 33, \"city\": \"Norfolk\"}\n",
    "my_dict[\"city\"]\n"
   ]
  },
  {
   "cell_type": "code",
   "execution_count": 21,
   "id": "ae738a7b-b56d-4981-a5a2-b1079e24b316",
   "metadata": {},
   "outputs": [
    {
     "name": "stdout",
     "output_type": "stream",
     "text": [
      "1\n",
      "2\n",
      "3\n",
      "4\n",
      "5\n"
     ]
    }
   ],
   "source": [
    "i = 1\n",
    "while i < 6:\n",
    "    print(i)\n",
    "    i += 1\n"
   ]
  },
  {
   "cell_type": "code",
   "execution_count": 20,
   "id": "58a3e871-47e7-4ce2-9d0b-f96dbf4ae03f",
   "metadata": {},
   "outputs": [
    {
     "name": "stdout",
     "output_type": "stream",
     "text": [
      "0\n",
      "2\n",
      "4\n",
      "6\n",
      "8\n"
     ]
    }
   ],
   "source": [
    "i = 1\n",
    "for i in range(10):\n",
    "    if i % 2 ==0:\n",
    "        print(i)"
   ]
  },
  {
   "cell_type": "code",
   "execution_count": 22,
   "id": "6df03bc4-1732-4b39-bf12-14ae2424806c",
   "metadata": {},
   "outputs": [
    {
     "name": "stdout",
     "output_type": "stream",
     "text": [
      "red\n",
      "orange\n",
      "yellow\n",
      "green\n",
      "blue\n",
      "indigo\n",
      "violet\n"
     ]
    }
   ],
   "source": [
    "colors = [\"red\", \"orange\", \"yellow\", \"green\", \"blue\", \"indigo\", \"violet\"]\n",
    "for i in colors:\n",
    "    print(i)"
   ]
  },
  {
   "cell_type": "code",
   "execution_count": null,
   "id": "8931c4ee-8897-46ba-a6c0-cd9f1c849434",
   "metadata": {},
   "outputs": [],
   "source": []
  }
 ],
 "metadata": {
  "kernelspec": {
   "display_name": "Python [conda env:base] *",
   "language": "python",
   "name": "conda-base-py"
  },
  "language_info": {
   "codemirror_mode": {
    "name": "ipython",
    "version": 3
   },
   "file_extension": ".py",
   "mimetype": "text/x-python",
   "name": "python",
   "nbconvert_exporter": "python",
   "pygments_lexer": "ipython3",
   "version": "3.13.5"
  }
 },
 "nbformat": 4,
 "nbformat_minor": 5
}
