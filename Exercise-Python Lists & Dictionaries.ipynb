{
 "cells": [
  {
   "cell_type": "code",
   "execution_count": 22,
   "id": "d21feee6-ee68-4bbd-8338-658303b4369d",
   "metadata": {},
   "outputs": [
    {
     "name": "stdout",
     "output_type": "stream",
     "text": [
      "['onion', 'cilantro', 'chicken', 'tortilla', 'salsa']\n",
      "chicken\n",
      "What is the first item on my list? potato\n",
      "Shopping list:, potato, cilantro, chicken, tortilla, salsa, hot sauce\n"
     ]
    }
   ],
   "source": [
    "# Create a shopping list w/ 5 items\n",
    "shopping_list = [\"onion\", \"cilantro\", \"chicken\", \"tortilla\", \"salsa\"]\n",
    "print(shopping_list)\n",
    "# print 3rd item on list\n",
    "print(shopping_list[2])\n",
    "# replace first item w/ another item\n",
    "shopping_list[0] = \"potato\"\n",
    "print(f\"What is the first item on my list?\", shopping_list[0])\n",
    "# add an item to the end of my list\n",
    "shopping_list.append(\"hot sauce\")\n",
    "\n",
    "print(\"Shopping list:\", *shopping_list, sep=\", \")"
   ]
  },
  {
   "cell_type": "code",
   "execution_count": 51,
   "id": "14c97e82-1cf3-4a29-83eb-867b816c9ea2",
   "metadata": {},
   "outputs": [
    {
     "name": "stdout",
     "output_type": "stream",
     "text": [
      "I need an onion it costs $ 0.75\n",
      "My updated dictionary now includes: tortillas \n",
      "Which cost: $ 2\n",
      "The total cost of all my items is: $7.24\n"
     ]
    }
   ],
   "source": [
    "# Create a dictionary w/ 3 grocery items w/ prices\n",
    "grocery_prices = {\n",
    "    \"item_1\": {\"name\": \"onion\", \"price\": 0.75},\n",
    "    \"item_2\": {\"name\": \"pork\", \"price\": 2.99},\n",
    "    \"item_3\": {\"name\": \"chicken stock\", \"price\": 1.50}\n",
    "}\n",
    "# Print a message showing 1 item and its price\n",
    "print(\"I need an\", grocery_prices['item_1']['name'], \"it costs $\", grocery_prices['item_1']['price'])\n",
    "\n",
    "# Add a new item to dictionary w/ it's price\n",
    "grocery_prices[\"item_4\"] = {\"name\": \"tortillas\", \"price\": 2}\n",
    "print(f\"My updated dictionary now includes:\", grocery_prices['item_4']['name'], \"\\nWhich cost: $\", grocery_prices['item_4']['price'])\n",
    "\n",
    "# Calculate and print the total cost of all items\n",
    "total = sum(item[\"price\"] for item in grocery_prices.values())\n",
    "print(f\"The total cost of all my items is: ${total:.2f}\")"
   ]
  },
  {
   "cell_type": "code",
   "execution_count": null,
   "id": "4df2ef40-f84c-47dc-b7c1-ce24dbfa0e81",
   "metadata": {},
   "outputs": [],
   "source": []
  }
 ],
 "metadata": {
  "kernelspec": {
   "display_name": "Python [conda env:base] *",
   "language": "python",
   "name": "conda-base-py"
  },
  "language_info": {
   "codemirror_mode": {
    "name": "ipython",
    "version": 3
   },
   "file_extension": ".py",
   "mimetype": "text/x-python",
   "name": "python",
   "nbconvert_exporter": "python",
   "pygments_lexer": "ipython3",
   "version": "3.13.5"
  }
 },
 "nbformat": 4,
 "nbformat_minor": 5
}
