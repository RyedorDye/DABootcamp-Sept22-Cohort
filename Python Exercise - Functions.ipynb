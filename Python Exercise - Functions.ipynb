{
 "cells": [
  {
   "cell_type": "code",
   "execution_count": 10,
   "id": "f126a7e5-00b7-4dca-b350-70395a2d7613",
   "metadata": {},
   "outputs": [
    {
     "name": "stdout",
     "output_type": "stream",
     "text": [
      "Hello, world!\n"
     ]
    }
   ],
   "source": [
    "def hello_world():\n",
    "    print(\"Hello, world!\")\n",
    "\n",
    "\n",
    "hello_world()"
   ]
  },
  {
   "cell_type": "code",
   "execution_count": 12,
   "id": "8174ab89-d9a5-490b-80a5-0ab12b2b8ae4",
   "metadata": {},
   "outputs": [
    {
     "name": "stdout",
     "output_type": "stream",
     "text": [
      "Hello, Skylar!\n"
     ]
    }
   ],
   "source": [
    "def greet(name):\n",
    "    print(f\"Hello, {name}!\")\n",
    "\n",
    "greet(\"Skylar\")"
   ]
  },
  {
   "cell_type": "code",
   "execution_count": 14,
   "id": "8e7cd339-838d-4da1-8d4b-9a99be85e1a1",
   "metadata": {},
   "outputs": [
    {
     "data": {
      "text/plain": [
       "1536"
      ]
     },
     "execution_count": 14,
     "metadata": {},
     "output_type": "execute_result"
    }
   ],
   "source": [
    "def calculate_area(length, width):\n",
    "    return length * width\n",
    "calculate_area(24, 64)\n"
   ]
  },
  {
   "cell_type": "code",
   "execution_count": 16,
   "id": "748cc527-18c5-4815-a68e-f3428c5a49e4",
   "metadata": {},
   "outputs": [
    {
     "data": {
      "text/plain": [
       "729"
      ]
     },
     "execution_count": 16,
     "metadata": {},
     "output_type": "execute_result"
    }
   ],
   "source": [
    "def power(base, exponent=2):\n",
    "    return base ** exponent\n",
    "\n",
    "power(3, 6)"
   ]
  },
  {
   "cell_type": "code",
   "execution_count": 40,
   "id": "b6b722e6-31ab-4d1c-a3eb-ab72b9dfcc0a",
   "metadata": {},
   "outputs": [
    {
     "data": {
      "text/plain": [
       "'32°C is 89.6°F - Hot'"
      ]
     },
     "execution_count": 40,
     "metadata": {},
     "output_type": "execute_result"
    }
   ],
   "source": [
    "def analyze_temperature(temp_c):\n",
    "    temp_f = (temp_c * 1.8) + 32\n",
    " \n",
    "    if temp_c < 0:\n",
    "        description = \"Freezing\"\n",
    "    elif temp_c <= 15:\n",
    "        description = \"Cold\"\n",
    "    elif temp_c <= 25:\n",
    "        description = \"Moderate\"\n",
    "    else:\n",
    "        description = \"Hot\"\n",
    "    return f\"{temp_c}°C is {temp_f}°F - {description}\"\n",
    "\n",
    "        \n",
    "analyze_temperature(32)\n",
    "    "
   ]
  },
  {
   "cell_type": "code",
   "execution_count": 41,
   "id": "0d5a7f1d-c872-4b12-976c-c2a0ef51c9cd",
   "metadata": {},
   "outputs": [
    {
     "data": {
      "text/plain": [
       "26.8"
      ]
     },
     "execution_count": 41,
     "metadata": {},
     "output_type": "execute_result"
    }
   ],
   "source": [
    "def calculate_average(*numbers):\n",
    "    if len(numbers) == 0:\n",
    "        return \"No numbers provided.\"\n",
    "    else:\n",
    "        return sum(numbers) / len(numbers)\n",
    "\n",
    "calculate_average(9, 89, 32, 4, 0)\n",
    "        \n",
    "    "
   ]
  },
  {
   "cell_type": "code",
   "execution_count": 54,
   "id": "7b9beb38-daca-4bbf-a4e0-14c16c23bcfc",
   "metadata": {},
   "outputs": [
    {
     "data": {
      "text/plain": [
       "\"Alexis's final grade is 68.2 (D).\""
      ]
     },
     "execution_count": 54,
     "metadata": {},
     "output_type": "execute_result"
    }
   ],
   "source": [
    "def calculate_final_grade(student, *scores):\n",
    "    if len(scores) == 0:\n",
    "        return(f\"{student} has no scores available.\")\n",
    "    else:\n",
    "        avg_score = sum(scores) / len(scores)\n",
    "\n",
    "        if avg_score >= 90:\n",
    "            grade = \"A\"\n",
    "        elif avg_score >= 80:\n",
    "            grade = \"B\"\n",
    "        elif avg_score >= 70:\n",
    "            grade = \"C\"\n",
    "        elif avg_score >= 60:\n",
    "            grade = \"D\"\n",
    "        else:\n",
    "            grade = \"F\"\n",
    "    return(f\"{student}'s final grade is {avg_score} ({grade}).\")\n",
    "        \n",
    "calculate_final_grade(\"Alexis\", 25, 105, 33, 86, 92)"
   ]
  },
  {
   "cell_type": "code",
   "execution_count": null,
   "id": "8a32d4a5-ba76-42af-9804-f6dfb3af26a5",
   "metadata": {},
   "outputs": [],
   "source": []
  }
 ],
 "metadata": {
  "kernelspec": {
   "display_name": "Python [conda env:base] *",
   "language": "python",
   "name": "conda-base-py"
  },
  "language_info": {
   "codemirror_mode": {
    "name": "ipython",
    "version": 3
   },
   "file_extension": ".py",
   "mimetype": "text/x-python",
   "name": "python",
   "nbconvert_exporter": "python",
   "pygments_lexer": "ipython3",
   "version": "3.13.5"
  }
 },
 "nbformat": 4,
 "nbformat_minor": 5
}
