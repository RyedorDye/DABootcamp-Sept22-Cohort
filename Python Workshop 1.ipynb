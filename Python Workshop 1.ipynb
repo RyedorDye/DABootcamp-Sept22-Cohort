{
 "cells": [
  {
   "cell_type": "code",
   "execution_count": 42,
   "id": "7e204903-4304-489a-9881-70259bd2c07d",
   "metadata": {},
   "outputs": [
    {
     "name": "stdout",
     "output_type": "stream",
     "text": [
      "Score: 95, Grade: A\n",
      "Score: 82, Grade: B\n",
      "Score: 71, Grade: C\n",
      "Score: 65, Grade: D\n",
      "Score: 55, Grade: F\n"
     ]
    }
   ],
   "source": [
    "### Exercise 1: Grade Calculator\n",
    "# Write a program that converts a numerical score to a letter grade\n",
    "# 90-100: A\n",
    "# 80-89: B\n",
    "# 70-79: C\n",
    "# 60-69: D\n",
    "# Below 60: Fdef calculate_grade(score):\n",
    "def calculate_grade(score):\n",
    "    if score >= 90:\n",
    "        return(\"A\")\n",
    "    elif score >= 80:\n",
    "        return(\"B\")\n",
    "    elif score >= 70:\n",
    "        return(\"C\")\n",
    "    elif score >= 60:\n",
    "        return(\"D\")\n",
    "    else:\n",
    "        return(\"F\")\n",
    "\n",
    "test_scores = [95, 82, 71, 65, 55]\n",
    "for score in test_scores:\n",
    "    print(f\"Score: {score}, Grade: {calculate_grade(score)}\")"
   ]
  },
  {
   "cell_type": "code",
   "execution_count": 21,
   "id": "b0a511d7-da86-4041-ac90-cc8de83e867c",
   "metadata": {},
   "outputs": [
    {
     "name": "stdout",
     "output_type": "stream",
     "text": [
      "Original price: $50, Final price: $50\n",
      "Original price: $150, Final price: $135.0\n",
      "Original price: $600, Final price: $480.0\n",
      "Original price: $1200, Final price: $840.0\n"
     ]
    }
   ],
   "source": [
    "### Exercise 2: Discount Calculator\n",
    "# Write a function that calculates the final price after applying a discount\n",
    "# If the purchase amount is $100 or more, apply a 10% discount\n",
    "# If the purchase amount is $500 or more, apply a 20% discount\n",
    "# If the purchase amount is $1000 or more, apply a 30% discount\n",
    "def calculate_discount(purchase_amount):\n",
    "    if purchase_amount >= 1000:\n",
    "        return(purchase_amount - (30 / 100) * purchase_amount)\n",
    "    elif purchase_amount >= 500:\n",
    "        return(purchase_amount - (20 / 100) * purchase_amount)\n",
    "    elif purchase_amount >= 100:\n",
    "        return(purchase_amount - (10 / 100) * purchase_amount)\n",
    "    else:\n",
    "        return(purchase_amount)\n",
    "        \n",
    "purchase_amounts = [50, 150, 600, 1200]\n",
    "for amount in purchase_amounts:\n",
    "    print(f\"Original price: ${amount}, Final price: ${calculate_discount(amount)}\")"
   ]
  },
  {
   "cell_type": "code",
   "execution_count": 5,
   "id": "b7c597f7-e124-4184-9bce-a6ae22e6855c",
   "metadata": {},
   "outputs": [
    {
     "name": "stdout",
     "output_type": "stream",
     "text": [
      "0°C = 32.0°F\n",
      "25°C = 77.0°F\n",
      "37°C = 98.6°F\n",
      "100°C = 212.0°F\n"
     ]
    }
   ],
   "source": [
    "### Exercise 3: Temperature Converter\n",
    "# function that converts celisius to fahrenheit\n",
    "# Formula: F = C * 9/5 + 32\n",
    "def celsius_to_fahrenheit(celsius):\n",
    "    fahrenheit = celsius * 9/5 + 32\n",
    "    return fahrenheit\n",
    "        \n",
    "temperatures_c = [0, 25, 37, 100]\n",
    "for temp in temperatures_c:\n",
    "    print(f\"{temp}°C = {celsius_to_fahrenheit(temp):.1f}°F\")"
   ]
  },
  {
   "cell_type": "code",
   "execution_count": 11,
   "id": "2ab07a07-8d8c-4f00-ab1c-71a6618ce7b3",
   "metadata": {},
   "outputs": [
    {
     "name": "stdout",
     "output_type": "stream",
     "text": [
      "15\n",
      "5\n",
      "50\n",
      "2.0\n",
      "Error: Cannot divide by zero.\n"
     ]
    }
   ],
   "source": [
    "### Exercise 4: Calculator Function\n",
    "# Write a function that takes two numbers and an operation as parameters\n",
    "# Supported operations: add, subtract, multiply, divide\n",
    "# Return the result of the operation\n",
    "def calculator(num1, num2, operator):\n",
    "    if operator == \"add\":\n",
    "        return num1 + num2\n",
    "    elif operator == \"subtract\":\n",
    "        return num1 - num2\n",
    "    elif operator == \"multiply\":\n",
    "        return num1 * num2\n",
    "    elif operator == \"divide\":\n",
    "        #Check for division by zero before performing the operation\n",
    "        if num2 == 0:\n",
    "            return \"Error: Cannot divide by zero.\"\n",
    "        return num1 / num2\n",
    "    else:\n",
    "        print(\"Invalid Operation.\")\n",
    "\n",
    "print(calculator(10, 5, \"add\"))\n",
    "print(calculator(10, 5, \"subtract\"))\n",
    "print(calculator(10, 5, \"multiply\"))\n",
    "print(calculator(10, 5, \"divide\"))\n",
    "print(calculator(10, 0, \"divide\"))"
   ]
  },
  {
   "cell_type": "code",
   "execution_count": 16,
   "id": "32d7d81b-546a-434b-9bf9-c1be0688d85a",
   "metadata": {},
   "outputs": [
    {
     "name": "stdout",
     "output_type": "stream",
     "text": [
      "Statistics: {'maximum': 42, 'minimum': 5, 'sum': 106, 'mean': 17.666666666666668}\n"
     ]
    }
   ],
   "source": [
    "### Exercise 5: List Statistics\n",
    "# Write a function that takes a list of numbers and returns a dictionary with:\n",
    "# - The minimum value\n",
    "# - The maximum value\n",
    "# - The average value\n",
    "# - The sum of all values\n",
    "def calculate_statistics(numbers):\n",
    "    if not numbers:\n",
    "        return \"Error: Empty list provided.\"\n",
    "   #Calculate statistics\n",
    "    minimum = min(numbers)\n",
    "    maximum = max(numbers)\n",
    "    total= sum(numbers)\n",
    "    mean = total / len(numbers)\n",
    "   #Return results as dictionary\n",
    "    return{\"maximum\": maximum, \"minimum\": minimum, \"sum\": total, \"mean\": mean}\n",
    "    \n",
    "\n",
    "test_numbers = [5, 12, 8, 42, 23, 16]\n",
    "stats = calculate_statistics(test_numbers)\n",
    "print(\"Statistics:\", stats)\n",
    "    "
   ]
  },
  {
   "cell_type": "code",
   "execution_count": 22,
   "id": "16b8fc7e-6a3f-4fd2-b116-a14cba50fa02",
   "metadata": {},
   "outputs": [
    {
     "name": "stdout",
     "output_type": "stream",
     "text": [
      "Even numbers: [2, 4, 6, 8, 10]\n"
     ]
    }
   ],
   "source": [
    "### Exercise 6: List Filtering\n",
    "# Write a function that takes a list of numbers and returns a new list containing only even numbers\n",
    "def filter_even_numbers(numbers):\n",
    "    even_nums = [] #create empty list for even numbers\n",
    "    for num in numbers: #loop through each number on input list\n",
    "        if num % 2 == 0: #check if number is even\n",
    "            even_nums.append(num) #add even numbers to list\n",
    "    return even_nums\n",
    "\n",
    "numbers = [1, 2, 3, 4, 5, 6, 7, 8, 9, 10]\n",
    "even_numbers = filter_even_numbers(numbers)\n",
    "print(\"Even numbers:\", even_numbers)"
   ]
  },
  {
   "cell_type": "code",
   "execution_count": 31,
   "id": "7ab1f56a-66f8-4826-bf42-fa53413ed668",
   "metadata": {},
   "outputs": [
    {
     "name": "stdout",
     "output_type": "stream",
     "text": [
      "Word Counts: {'the': 4, 'quick': 2, 'brown': 1, 'fox': 2, 'jumps': 1, 'over': 1, 'lazy': 1, 'dog.': 1, 'was': 2, 'and': 1, 'dog': 1, 'lazy.': 1}\n"
     ]
    }
   ],
   "source": [
    "### Exercise 7: Word Counter\n",
    "# Write a function that takes a string and returns a dictionary with each word as a key\n",
    "# and the number of occurrences as the value\n",
    "def count_words(text):\n",
    "    word_counts = {}\n",
    "   # Convert the string to lowercase to treat \"Word\" and \"word\" as the same\n",
    "    # and split it into a list of words.\n",
    "    words = text.lower().split()\n",
    "    for word in words:\n",
    "        if word:\n",
    "            word_counts[word] = word_counts.get(word, + 0) + 1\n",
    "    return word_counts\n",
    "sample_text = \"The quick brown fox jumps over the lazy dog. The fox was quick and the dog was lazy.\"\n",
    "word_counts = count_words(sample_text)\n",
    "print(\"Word Counts:\", word_counts)"
   ]
  },
  {
   "cell_type": "code",
   "execution_count": 47,
   "id": "c1ccada9-0a3a-421d-a9e6-1b5dd2e7fe54",
   "metadata": {},
   "outputs": [
    {
     "name": "stdout",
     "output_type": "stream",
     "text": [
      "{'name': 'Alice', 'phone': '555-1234', 'email': 'alice@example.com'}\n",
      "{'name': 'Bob', 'phone': '555-5678', 'email': None}\n",
      "{'name': 'Alice', 'phone': '555-1234', 'email': 'alice@example.com'}\n",
      "{'name': 'Alice', 'phone': '555-1234', 'email': 'alice.new@example.com'}\n",
      "{'name': 'Alice', 'phone': '555-1234', 'email': 'alice.new@example.com'}\n",
      "Contact Charlie not found.\n"
     ]
    }
   ],
   "source": [
    "### Exercise 8: Contact Manager\n",
    "# Create a small contact manager that lets you add, update, and retrieve contact information\n",
    "contact_book = {}\n",
    "def add_contact(name, phone, email=None):\n",
    "    #store contact info\n",
    "    contact_book[name] = {\"phone\":phone, \"email\": email}\n",
    "    #return contact info that was added\n",
    "    return{\"name\": name, \"phone\": phone, \"email\": email}\n",
    "\n",
    "def update_contact(name, phone=None, email=None):\n",
    "    #check if contact exists\n",
    "    if name not in contact_book:\n",
    "        return f\"Contact {name} not found.\"\n",
    "    #update only this provided info\n",
    "    if phone:\n",
    "        contact_book[name][\"phone\"] = phone\n",
    "    if email:\n",
    "        contact_book[name][\"email\"] = email\n",
    "    #return updated info\n",
    "    return {\"name\": name, \"phone\": contact_book[name][\"phone\"], \"email\": contact_book[name][\"email\"]}\n",
    "\n",
    "def get_contact(name):\n",
    "    if name in contact_book:\n",
    "        return {\"name\": name, \"phone\": contact_book[name][\"phone\"], \"email\": contact_book[name][\"email\"]}\n",
    "    return f\"Contact {name} not found.\"\n",
    "print(add_contact(\"Alice\", \"555-1234\", \"alice@example.com\"))\n",
    "print(add_contact(\"Bob\", \"555-5678\"))\n",
    "print(get_contact(\"Alice\"))\n",
    "print(update_contact(\"Alice\", email=\"alice.new@example.com\"))\n",
    "print(get_contact(\"Alice\"))\n",
    "print(get_contact(\"Charlie\"))\n",
    "    "
   ]
  },
  {
   "cell_type": "code",
   "execution_count": 20,
   "id": "8c7b0926-21f6-4601-a37f-027d228706d6",
   "metadata": {},
   "outputs": [
    {
     "name": "stdout",
     "output_type": "stream",
     "text": [
      "Factorial of 0 = 1\n",
      "Factorial of 1 = 1\n",
      "Factorial of 2 = 2\n",
      "Factorial of 3 = 6\n",
      "Factorial of 4 = 24\n",
      "Factorial of 5 = 120\n"
     ]
    }
   ],
   "source": [
    "### Exercise 9: Factorial Calculator\n",
    "# Write a function that calculates the factorial of a number using a loop\n",
    "# Factorial of n = n * (n-1) * (n-2) * ... * 1\n",
    "def factorial(n):\n",
    "    if n < 0:\n",
    "        return(\"Value Error: Factorial is not defined by negative numbers.\")\n",
    "    elif n == 0:\n",
    "        return 1\n",
    "    else:\n",
    "        fact = 1\n",
    "        for i in range(1, n + 1):\n",
    "            fact *= i\n",
    "        return fact #remember to put return outside of loop\n",
    "\n",
    "for n in range(6):\n",
    "    print(f\"Factorial of {n} = {factorial(n)}\")"
   ]
  },
  {
   "cell_type": "code",
   "execution_count": 40,
   "id": "44a986e0-9dd6-4f78-8b79-65f9a5f686fd",
   "metadata": {},
   "outputs": [
    {
     "name": "stdout",
     "output_type": "stream",
     "text": [
      "Alice's average score: 90.00\n",
      "Bob's average score: 86.50\n",
      "Charlie's average score: 94.00\n",
      "David's average score: 85.75\n",
      "\n",
      "Student Analysis:\n",
      "Individual Averages:\n",
      " Alice: 90.00\n",
      " Bob: 86.50\n",
      " Charlie: 94.00\n",
      " David: 85.75\n",
      "Top Student: Charlie with average of 94.00\n"
     ]
    }
   ],
   "source": [
    "### Exercise 10: Data Analysis\n",
    "# You're given a list of dictionaries, each representing a student's score on different tests.\n",
    "# Calculate the average score for each student and identify the student with the highest average.\n",
    "\n",
    "students_data = [\n",
    "    {\"name\": \"Alice\", \"scores\": [88, 92, 95, 85]},\n",
    "    {\"name\": \"Bob\", \"scores\": [90, 87, 88, 81]},\n",
    "    {\"name\": \"Charlie\", \"scores\": [92, 95, 96, 93]},\n",
    "    {\"name\": \"David\", \"scores\": [78, 85, 91, 89]}\n",
    "]\n",
    "\n",
    "def analyze_student_scores(students):\n",
    "    individual_averages = {}\n",
    "    highest_avg = 0\n",
    "    top_student = \"\"\n",
    "    \n",
    "    # calculate average\n",
    "    for student in students:\n",
    "        avg = sum(student[\"scores\"]) / len(student[\"scores\"])\n",
    "        print (f\"{student[\"name\"]}'s average score: {avg:.2f}\")\n",
    "\n",
    "        individual_averages[student[\"name\"]] = avg\n",
    "        # determine highest average and best student\n",
    "        if avg > highest_avg:\n",
    "            highest_avg = avg\n",
    "            top_student = student[\"name\"]\n",
    "\n",
    "    return {\n",
    "        \"individual_averages\": individual_averages,\n",
    "        \"top_student\": top_student,\n",
    "        \"top_average\": highest_avg\n",
    "    }\n",
    "            \n",
    "analysis = analyze_student_scores(students_data)\n",
    "print(\"\\nStudent Analysis:\")\n",
    "print(\"Individual Averages:\")\n",
    "for name, avg in analysis[\"individual_averages\"].items():\n",
    "    print(f\" {name}: {avg:.2f}\")\n",
    "print(f\"Top Student: {analysis['top_student']} with average of {analysis['top_average']:.2f}\")"
   ]
  },
  {
   "cell_type": "code",
   "execution_count": 39,
   "id": "f584c7ea-ba7c-4479-afff-04420634ddfe",
   "metadata": {},
   "outputs": [
    {
     "name": "stdout",
     "output_type": "stream",
     "text": [
      "\n",
      "Sales Analysis:\n",
      "Monthly Sales:\n",
      "  Jan: $3030\n",
      "  Feb: $3420\n",
      "  Mar: $3580\n",
      "\n",
      "Category Sales:\n",
      " Electronics: $4250\n",
      " Books: $2550\n",
      " Clothing: $3230\n",
      "\n",
      "Best Month: Mar with $3580\n",
      "Best Category: Electronics with $4250\n",
      "Total Sales: $10030\n"
     ]
    }
   ],
   "source": [
    "## Final Challenge: Sales Data Analysis\n",
    "\n",
    "# You're given a list of dictionaries representing monthly sales data for a store.\n",
    "# Each dictionary contains the month, category, and sales amount.\n",
    "\n",
    "sales_data = [\n",
    "    {\"month\": \"Jan\", \"category\": \"Electronics\", \"amount\": 1200},\n",
    "    {\"month\": \"Jan\", \"category\": \"Books\", \"amount\": 850},\n",
    "    {\"month\": \"Jan\", \"category\": \"Clothing\", \"amount\": 980},\n",
    "    {\"month\": \"Feb\", \"category\": \"Electronics\", \"amount\": 1450}, \n",
    "    {\"month\": \"Feb\", \"category\": \"Books\", \"amount\": 920},\n",
    "    {\"month\": \"Feb\", \"category\": \"Clothing\", \"amount\": 1050},\n",
    "    {\"month\": \"Mar\", \"category\": \"Electronics\", \"amount\": 1600},\n",
    "    {\"month\": \"Mar\", \"category\": \"Books\", \"amount\": 780},\n",
    "    {\"month\": \"Mar\", \"category\": \"Clothing\", \"amount\": 1200}\n",
    "]\n",
    "def analyze_sales(sales):\n",
    "    monthly_sales = {}\n",
    "    category_sales = {}\n",
    "    best_month = \"\"\n",
    "    best_category = \"\"\n",
    "    total_monthly_sales = 0\n",
    "    total_category_sales = 0\n",
    "    total_sales = 0\n",
    "\n",
    "    for sale in sales:\n",
    "        month = sale[\"month\"]\n",
    "        category = sale[\"category\"]\n",
    "        amount = sale[\"amount\"]\n",
    "        # calculate monthly sales\n",
    "        if month in monthly_sales:\n",
    "            monthly_sales[month] += amount\n",
    "        else:\n",
    "            monthly_sales[month] = amount\n",
    "\n",
    "        # calculate category sales\n",
    "        if category in category_sales:\n",
    "            category_sales[category] += amount\n",
    "        else:\n",
    "            category_sales[category] = amount\n",
    "        # add total sales\n",
    "        total_sales += amount\n",
    "        \n",
    "    # identify best month\n",
    "    for month, amount in monthly_sales.items():\n",
    "        if amount >= total_monthly_sales:\n",
    "            total_monthly_sales = amount\n",
    "            best_month = month\n",
    "    # identify best category\n",
    "    for category, amount in category_sales.items():\n",
    "        if amount >= total_category_sales:\n",
    "            total_category_sales = amount\n",
    "            best_category = category\n",
    "    return {\n",
    "        \"monthly_sales\": monthly_sales,\n",
    "        \"category_sales\": category_sales,\n",
    "        \"best_month\": best_month,\n",
    "        \"best_category\": best_category,\n",
    "        \"total_sales\": total_sales\n",
    "    }\n",
    "sales_analysis = analyze_sales(sales_data)\n",
    "\n",
    "print(\"\\nSales Analysis:\")\n",
    "print(\"Monthly Sales:\")\n",
    "\n",
    "for month, amount in sales_analysis[\"monthly_sales\"].items():\n",
    "    print(f\"  {month}: ${amount}\")\n",
    "print(\"\\nCategory Sales:\")\n",
    "\n",
    "for category, amount in sales_analysis[\"category_sales\"].items():\n",
    "    print(f\" {category}: ${amount}\")\n",
    "\n",
    "print(f\"\\nBest Month: {sales_analysis['best_month']} with ${sales_analysis['monthly_sales'][sales_analysis['best_month']]}\")\n",
    "print(f\"Best Category: {sales_analysis['best_category']} with ${sales_analysis['category_sales'][sales_analysis['best_category']]}\")\n",
    "print(f\"Total Sales: ${sales_analysis['total_sales']}\")"
   ]
  },
  {
   "cell_type": "code",
   "execution_count": null,
   "id": "0dce9690-7029-4d21-aa0f-235d41b83a19",
   "metadata": {},
   "outputs": [],
   "source": []
  },
  {
   "cell_type": "code",
   "execution_count": null,
   "id": "57c8bd3e-f5f2-4eb0-9c33-8ae8cdbb568d",
   "metadata": {},
   "outputs": [],
   "source": []
  }
 ],
 "metadata": {
  "kernelspec": {
   "display_name": "Python [conda env:base] *",
   "language": "python",
   "name": "conda-base-py"
  },
  "language_info": {
   "codemirror_mode": {
    "name": "ipython",
    "version": 3
   },
   "file_extension": ".py",
   "mimetype": "text/x-python",
   "name": "python",
   "nbconvert_exporter": "python",
   "pygments_lexer": "ipython3",
   "version": "3.13.5"
  }
 },
 "nbformat": 4,
 "nbformat_minor": 5
}
